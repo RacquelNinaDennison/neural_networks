{
 "cells": [
  {
   "cell_type": "code",
   "execution_count": null,
   "metadata": {},
   "outputs": [],
   "source": [
    "import torch\n",
    "import torch.nn as nn\n",
    "import torch.optim as optim\n",
    "import pandas as pd\n",
    "import torch.nn.functional as F\n",
    "import torch.utils.data as data\n",
    "import matplotlib.pyplot as plt\n"
   ]
  },
  {
   "cell_type": "code",
   "execution_count": null,
   "metadata": {},
   "outputs": [],
   "source": [
    "# Baseline Neural Network\n",
    "class BaselineNN(nn.Module):\n",
    "  def __init__(self, input_size):\n",
    "    super(BaselineNN, self).__init__()\n",
    "    # Define layers\n",
    "    self.fc1 = nn.Linear(input_size, 64)\n",
    "    self.fc2 = nn.Linear(64, 64)\n",
    "    self.fc3 = nn.Linear(64, 3) # Output is 3 nodes, one for each level of engagement\n",
    "\n",
    "  def forward(self, x):\n",
    "    x = torch.relu(self.fc1(x))\n",
    "    x = torch.relu(self.fc2(x))\n",
    "    x = self.fc3(x)\n",
    "    return x"
   ]
  },
  {
   "cell_type": "code",
   "execution_count": null,
   "metadata": {},
   "outputs": [],
   "source": [
    "# Hyperparameters\n",
    "learning_rate = 0.001 \n",
    "batch_size = 32\n",
    "epochs = 100\n",
    "\n",
    "TrainingLoss = []\n",
    "TrainingAccuracy = []\n",
    "ValidationLoss = []\n",
    "ValidationAccuracy = []\n",
    "\n",
    "# Split the original Dataset into 3\n",
    "TestingData = open('TestingEncoded.csv','r').read().split(\"\\n\")[1:]\n",
    "TrainingData = open('TrainingEncoded.csv','r').read().split(\"\\n\")[1:]\n",
    "ValidationData = open('ValidationEncoded.csv','r').read().split(\"\\n\")[1:]\n",
    "\n",
    "input_size  = len(TestingData[0].split(\",\")) - 1\n",
    "\n",
    "model = BaselineNN(input_size)\n",
    "\n",
    "# Loss and optimizer\n",
    "criterion = nn.MSELoss() \n",
    "optimizer = optim.Adam(model.parameters(), lr=learning_rate)"
   ]
  },
  {
   "cell_type": "code",
   "execution_count": null,
   "metadata": {},
   "outputs": [],
   "source": [
    "num_classes = 3\n",
    "\n",
    "def process_data(data):\n",
    "    features = []\n",
    "    labels = []\n",
    "\n",
    "    for line in data:\n",
    "        if line.strip():\n",
    "            split_line = list(map(float, line.split(',')))\n",
    "            features.append(split_line[:-1])  # All except last column\n",
    "            labels.append(int(split_line[-1]))\n",
    "\n",
    "    return torch.tensor(features, dtype=torch.float32), torch.tensor(labels, dtype=torch.long)\n",
    "\n",
    "train_features, train_labels = process_data(TrainingData)\n",
    "valid_features, valid_labels = process_data(ValidationData)\n",
    "test_features, test_labels = process_data(TestingData)\n",
    "\n",
    "train_dataset = data.TensorDataset(train_features, train_labels)\n",
    "train_loader = data.DataLoader(train_dataset, batch_size=batch_size, shuffle=True)\n",
    "\n",
    "def one_hot_encode(labels, num_classes):\n",
    "    return torch.eye(num_classes)[labels]\n",
    "\n",
    "# Training Loop\n",
    "for epoch in range(epochs):\n",
    "    model.train()  # Set the model to training mode\n",
    "    running_loss = 0.0\n",
    "\n",
    "    for batch_features, batch_labels in train_loader:\n",
    "        optimizer.zero_grad()\n",
    "        # Forward pass\n",
    "        outputs = model(batch_features)\n",
    "\n",
    "        # One-hot encode the labels\n",
    "        one_hot_labels = one_hot_encode(batch_labels, num_classes)\n",
    "\n",
    "        # Compute MSE loss\n",
    "        loss = criterion(outputs)\n",
    "        loss.backward()\n",
    "        optimizer.step()\n",
    "        running_loss += loss.item()\n",
    "\n",
    "    print(f'Epoch [{epoch + 1}/{epochs}], Loss: {running_loss / len(train_loader):.4f}')\n",
    "    TrainingLoss.append(running_loss / len(train_loader))\n",
    "\n",
    "    # Validation\n",
    "    model.eval()  # Set the model to evaluation mode\n",
    "    with torch.no_grad():\n",
    "        valid_outputs = model(valid_features)\n",
    "        one_hot_valid_labels = one_hot_encode(valid_labels, num_classes)\n",
    "        valid_loss = criterion(valid_outputs, one_hot_valid_labels)\n",
    "        print(f'Validation Loss after epoch {epoch + 1}: {valid_loss.item():.4f}')\n",
    "        ValidationLoss.append(valid_loss.item())\n",
    "\n",
    "        # Accuracy\n",
    "        predicted_classes = torch.argmax(valid_outputs, dim=1)\n",
    "        accuracy = (predicted_classes == valid_labels).float().mean()\n",
    "        ValidationAccuracy.append(accuracy.item())\n",
    "        print(f'Validation Accuracy after epoch {epoch + 1}: {accuracy.item() * 100:.2f}%')\n",
    "\n",
    "        # Training accuracy\n",
    "        train_outputs = model(train_features)\n",
    "        predicted_classes = torch.argmax(train_outputs, dim=1)\n",
    "        accuracy = (predicted_classes == train_labels).float().mean()\n",
    "        TrainingAccuracy.append(accuracy.item())\n",
    "\n",
    "# Save the model\n",
    "torch.save(model.state_dict(), 'baseline_model.pth')"
   ]
  },
  {
   "cell_type": "code",
   "execution_count": null,
   "metadata": {},
   "outputs": [],
   "source": [
    "#Compare with Testing dataset\n",
    "model.eval()  # Set the model to evaluation mode\n",
    "with torch.no_grad():\n",
    "    test_outputs = model(test_features)\n",
    "    predicted_classes = torch.argmax(test_outputs, dim=1)\n",
    "    accuracy = (predicted_classes == test_labels).float().mean()\n",
    "    print(f'Final Accuracy using Testing dataset: {accuracy.item() * 100:.2f}%')"
   ]
  },
  {
   "attachments": {},
   "cell_type": "markdown",
   "metadata": {},
   "source": [
    "## Plotting data "
   ]
  },
  {
   "cell_type": "code",
   "execution_count": null,
   "metadata": {},
   "outputs": [],
   "source": [
    "plt.plot(TrainingLoss, color='C0',label='Training Data')\n",
    "plt.plot(ValidationLoss, color='C1',label='Validation Data',linestyle='--')\n",
    "plt.xlabel(\"Epochs\")\n",
    "plt.ylabel(\"Loss\")\n",
    "plt.title(\"Baseline model Loss\")\n",
    "plt.legend()\n",
    "plt.show()"
   ]
  },
  {
   "cell_type": "code",
   "execution_count": null,
   "metadata": {},
   "outputs": [],
   "source": [
    "plt.plot(TrainingAccuracy, color='C0',label='Training Data')\n",
    "plt.plot(ValidationAccuracy, color='C1',label='Validation Data',linestyle='--')\n",
    "plt.xlabel(\"Epochs\")\n",
    "plt.ylabel(\"Accuracy\")\n",
    "plt.title(\"Baseline model Accuracy\")\n",
    "plt.legend()\n",
    "plt.show()"
   ]
  }
 ],
 "metadata": {
  "language_info": {
   "name": "python"
  },
  "orig_nbformat": 4
 },
 "nbformat": 4,
 "nbformat_minor": 2
}
